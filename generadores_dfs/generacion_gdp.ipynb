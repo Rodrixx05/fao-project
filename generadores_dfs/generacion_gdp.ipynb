{
 "cells": [
  {
   "cell_type": "code",
   "execution_count": 1,
   "metadata": {},
   "outputs": [],
   "source": [
    "import pandas as pd\n",
    "from pandas_datareader import wb\n",
    "import country_converter as coco\n",
    "import os"
   ]
  },
  {
   "cell_type": "code",
   "execution_count": 2,
   "metadata": {},
   "outputs": [],
   "source": [
    "os.chdir('..')"
   ]
  },
  {
   "cell_type": "code",
   "execution_count": 3,
   "metadata": {},
   "outputs": [],
   "source": [
    "df = pd.read_pickle(os.path.join('dataframes_pkl', 'df_global_format.pkl'))"
   ]
  },
  {
   "cell_type": "code",
   "execution_count": 4,
   "metadata": {},
   "outputs": [],
   "source": [
    "uk_index = df[df['Area'] == 'United Kingdom'].index\n",
    "df.loc[uk_index, 'Area'] = 'United Kingdom of Great Britain and Northern Ireland'\n",
    "ivoire_index = df[df['Area'] == \"CÃ´te d'Ivoire\"].index\n",
    "df.loc[ivoire_index, 'Area'] = \"Côte d'Ivoire\""
   ]
  },
  {
   "cell_type": "code",
   "execution_count": 5,
   "metadata": {},
   "outputs": [
    {
     "name": "stderr",
     "output_type": "stream",
     "text": [
      "More then one regular expression match for China, Taiwan Province of\n",
      "More then one regular expression match for China, Taiwan Province of\n",
      "More then one regular expression match for China, Taiwan Province of\n",
      "More then one regular expression match for China, Taiwan Province of\n",
      "More then one regular expression match for China, Taiwan Province of\n",
      "More then one regular expression match for China, Taiwan Province of\n",
      "More then one regular expression match for China, Taiwan Province of\n",
      "More then one regular expression match for China, Taiwan Province of\n",
      "More then one regular expression match for China, Taiwan Province of\n",
      "More then one regular expression match for China, Taiwan Province of\n",
      "More then one regular expression match for China, Taiwan Province of\n",
      "More then one regular expression match for China, Taiwan Province of\n",
      "More then one regular expression match for China, Taiwan Province of\n",
      "More then one regular expression match for China, Taiwan Province of\n",
      "More then one regular expression match for China, Taiwan Province of\n",
      "More then one regular expression match for China, Taiwan Province of\n",
      "More then one regular expression match for China, Taiwan Province of\n",
      "More then one regular expression match for China, Taiwan Province of\n",
      "More then one regular expression match for China, Taiwan Province of\n",
      "More then one regular expression match for China, Taiwan Province of\n",
      "More then one regular expression match for China, Taiwan Province of\n",
      "More then one regular expression match for China, Taiwan Province of\n",
      "More then one regular expression match for China, Taiwan Province of\n",
      "More then one regular expression match for China, Taiwan Province of\n",
      "More then one regular expression match for China, Taiwan Province of\n",
      "More then one regular expression match for China, Taiwan Province of\n",
      "More then one regular expression match for China, Taiwan Province of\n",
      "More then one regular expression match for China, Taiwan Province of\n",
      "More then one regular expression match for China, Taiwan Province of\n",
      "More then one regular expression match for China, Taiwan Province of\n",
      "More then one regular expression match for China, Taiwan Province of\n",
      "More then one regular expression match for China, Taiwan Province of\n"
     ]
    }
   ],
   "source": [
    "list_countries = coco.CountryConverter().convert(df['Area'].unique())"
   ]
  },
  {
   "cell_type": "code",
   "execution_count": 6,
   "metadata": {},
   "outputs": [],
   "source": [
    "list_countries = list(map(lambda x: x[1] if type(x) is list else x, list_countries))"
   ]
  },
  {
   "cell_type": "code",
   "execution_count": 7,
   "metadata": {},
   "outputs": [],
   "source": [
    "gdp_df = wb.download(country = list_countries, indicator = 'NY.GDP.PCAP.CD', start = df['Year'].min(), end = df['Year'].max())"
   ]
  },
  {
   "cell_type": "code",
   "execution_count": 8,
   "metadata": {},
   "outputs": [
    {
     "data": {
      "text/html": [
       "<div>\n",
       "<style scoped>\n",
       "    .dataframe tbody tr th:only-of-type {\n",
       "        vertical-align: middle;\n",
       "    }\n",
       "\n",
       "    .dataframe tbody tr th {\n",
       "        vertical-align: top;\n",
       "    }\n",
       "\n",
       "    .dataframe thead th {\n",
       "        text-align: right;\n",
       "    }\n",
       "</style>\n",
       "<table border=\"1\" class=\"dataframe\">\n",
       "  <thead>\n",
       "    <tr style=\"text-align: right;\">\n",
       "      <th></th>\n",
       "      <th></th>\n",
       "      <th>NY.GDP.PCAP.CD</th>\n",
       "    </tr>\n",
       "    <tr>\n",
       "      <th>country</th>\n",
       "      <th>year</th>\n",
       "      <th></th>\n",
       "    </tr>\n",
       "  </thead>\n",
       "  <tbody>\n",
       "    <tr>\n",
       "      <th rowspan=\"4\" valign=\"top\">French Polynesia</th>\n",
       "      <th>2017</th>\n",
       "      <td>NaN</td>\n",
       "    </tr>\n",
       "    <tr>\n",
       "      <th>2016</th>\n",
       "      <td>NaN</td>\n",
       "    </tr>\n",
       "    <tr>\n",
       "      <th>2015</th>\n",
       "      <td>NaN</td>\n",
       "    </tr>\n",
       "    <tr>\n",
       "      <th>2014</th>\n",
       "      <td>NaN</td>\n",
       "    </tr>\n",
       "    <tr>\n",
       "      <th rowspan=\"3\" valign=\"top\">Venezuela, RB</th>\n",
       "      <th>2017</th>\n",
       "      <td>NaN</td>\n",
       "    </tr>\n",
       "    <tr>\n",
       "      <th>2016</th>\n",
       "      <td>NaN</td>\n",
       "    </tr>\n",
       "    <tr>\n",
       "      <th>2015</th>\n",
       "      <td>NaN</td>\n",
       "    </tr>\n",
       "  </tbody>\n",
       "</table>\n",
       "</div>"
      ],
      "text/plain": [
       "                       NY.GDP.PCAP.CD\n",
       "country          year                \n",
       "French Polynesia 2017             NaN\n",
       "                 2016             NaN\n",
       "                 2015             NaN\n",
       "                 2014             NaN\n",
       "Venezuela, RB    2017             NaN\n",
       "                 2016             NaN\n",
       "                 2015             NaN"
      ]
     },
     "execution_count": 8,
     "metadata": {},
     "output_type": "execute_result"
    }
   ],
   "source": [
    "gdp_df[gdp_df['NY.GDP.PCAP.CD'].isnull()]"
   ]
  },
  {
   "cell_type": "code",
   "execution_count": 9,
   "metadata": {},
   "outputs": [],
   "source": [
    "gdp_pyf = wb.download(country = 'PYF', indicator = 'NY.GDP.PCAP.CD', start = 2000, end = 2000).iloc[0,0]"
   ]
  },
  {
   "cell_type": "code",
   "execution_count": 10,
   "metadata": {},
   "outputs": [],
   "source": [
    "gdp_df.columns = ['GDP_PCAP']"
   ]
  },
  {
   "cell_type": "code",
   "execution_count": 11,
   "metadata": {},
   "outputs": [],
   "source": [
    "gdp_df.reset_index(inplace = True)"
   ]
  },
  {
   "cell_type": "code",
   "execution_count": 12,
   "metadata": {},
   "outputs": [],
   "source": [
    "pyf_index = gdp_df[gdp_df['country'] == 'French Polynesia'].index\n",
    "gdp_df.loc[pyf_index, 'GDP_PCAP'] = gdp_df.loc[pyf_index, 'GDP_PCAP'].fillna(gdp_pyf)"
   ]
  },
  {
   "cell_type": "code",
   "execution_count": 13,
   "metadata": {},
   "outputs": [],
   "source": [
    "ven_gdp = gdp_df[gdp_df['country'] == 'Venezuela, RB'].iloc[3, 2]"
   ]
  },
  {
   "cell_type": "code",
   "execution_count": 14,
   "metadata": {},
   "outputs": [],
   "source": [
    "gdp_df.fillna(ven_gdp, inplace = True)"
   ]
  },
  {
   "cell_type": "code",
   "execution_count": 15,
   "metadata": {},
   "outputs": [
    {
     "data": {
      "text/plain": [
       "country     0\n",
       "year        0\n",
       "GDP_PCAP    0\n",
       "dtype: int64"
      ]
     },
     "execution_count": 15,
     "metadata": {},
     "output_type": "execute_result"
    }
   ],
   "source": [
    "gdp_df.isnull().sum()"
   ]
  },
  {
   "cell_type": "code",
   "execution_count": 16,
   "metadata": {},
   "outputs": [],
   "source": [
    "gdp_df.rename({'country': 'Area', 'year': 'Year'}, axis = 1, inplace = True)"
   ]
  },
  {
   "cell_type": "code",
   "execution_count": 17,
   "metadata": {},
   "outputs": [
    {
     "data": {
      "text/html": [
       "<div>\n",
       "<style scoped>\n",
       "    .dataframe tbody tr th:only-of-type {\n",
       "        vertical-align: middle;\n",
       "    }\n",
       "\n",
       "    .dataframe tbody tr th {\n",
       "        vertical-align: top;\n",
       "    }\n",
       "\n",
       "    .dataframe thead th {\n",
       "        text-align: right;\n",
       "    }\n",
       "</style>\n",
       "<table border=\"1\" class=\"dataframe\">\n",
       "  <thead>\n",
       "    <tr style=\"text-align: right;\">\n",
       "      <th></th>\n",
       "      <th>Area</th>\n",
       "      <th>Year</th>\n",
       "      <th>GDP_PCAP</th>\n",
       "    </tr>\n",
       "  </thead>\n",
       "  <tbody>\n",
       "    <tr>\n",
       "      <th>0</th>\n",
       "      <td>Afghanistan</td>\n",
       "      <td>2017</td>\n",
       "      <td>516.679862</td>\n",
       "    </tr>\n",
       "    <tr>\n",
       "      <th>1</th>\n",
       "      <td>Afghanistan</td>\n",
       "      <td>2016</td>\n",
       "      <td>512.012778</td>\n",
       "    </tr>\n",
       "    <tr>\n",
       "      <th>2</th>\n",
       "      <td>Afghanistan</td>\n",
       "      <td>2015</td>\n",
       "      <td>556.007221</td>\n",
       "    </tr>\n",
       "    <tr>\n",
       "      <th>3</th>\n",
       "      <td>Afghanistan</td>\n",
       "      <td>2014</td>\n",
       "      <td>614.223342</td>\n",
       "    </tr>\n",
       "    <tr>\n",
       "      <th>4</th>\n",
       "      <td>Albania</td>\n",
       "      <td>2017</td>\n",
       "      <td>4531.019374</td>\n",
       "    </tr>\n",
       "  </tbody>\n",
       "</table>\n",
       "</div>"
      ],
      "text/plain": [
       "          Area  Year     GDP_PCAP\n",
       "0  Afghanistan  2017   516.679862\n",
       "1  Afghanistan  2016   512.012778\n",
       "2  Afghanistan  2015   556.007221\n",
       "3  Afghanistan  2014   614.223342\n",
       "4      Albania  2017  4531.019374"
      ]
     },
     "execution_count": 17,
     "metadata": {},
     "output_type": "execute_result"
    }
   ],
   "source": [
    "gdp_df.head()"
   ]
  },
  {
   "cell_type": "code",
   "execution_count": 18,
   "metadata": {},
   "outputs": [
    {
     "data": {
      "text/plain": [
       "<AxesSubplot:>"
      ]
     },
     "execution_count": 18,
     "metadata": {},
     "output_type": "execute_result"
    },
    {
     "data": {
      "image/png": "[encoded data removed]",
      "text/plain": [
       "<Figure size 432x288 with 1 Axes>"
      ]
     },
     "metadata": {
      "needs_background": "light"
     },
     "output_type": "display_data"
    }
   ],
   "source": [
    "gdp_df['GDP_PCAP'].hist()"
   ]
  },
  {
   "cell_type": "code",
   "execution_count": 19,
   "metadata": {},
   "outputs": [],
   "source": [
    "gdp_df.to_pickle(os.path.join('dataframes_pkl', 'df_gdp.pkl'))"
   ]
  },
  {
   "cell_type": "code",
   "execution_count": 20,
   "metadata": {},
   "outputs": [],
   "source": [
    "url = 'http://databank.worldbank.org/data/download/site-content/OGHIST.xlsx'\n",
    "income_df = pd.read_excel(url, sheet_name = 'Country Analytical History', header = None, names = ['Country', 2014, 2015, 2016, 2017], index_col = 0, engine = 'openpyxl', usecols = 'A,AD:AG', skiprows=11, skipfooter = 11)"
   ]
  },
  {
   "cell_type": "code",
   "execution_count": 21,
   "metadata": {},
   "outputs": [],
   "source": [
    "dict_countries = dict(zip(list_countries, df['Area'].unique()))"
   ]
  },
  {
   "cell_type": "code",
   "execution_count": 22,
   "metadata": {},
   "outputs": [],
   "source": [
    "income_df.reset_index(inplace = True)"
   ]
  },
  {
   "cell_type": "code",
   "execution_count": 23,
   "metadata": {},
   "outputs": [
    {
     "data": {
      "text/html": [
       "<div>\n",
       "<style scoped>\n",
       "    .dataframe tbody tr th:only-of-type {\n",
       "        vertical-align: middle;\n",
       "    }\n",
       "\n",
       "    .dataframe tbody tr th {\n",
       "        vertical-align: top;\n",
       "    }\n",
       "\n",
       "    .dataframe thead th {\n",
       "        text-align: right;\n",
       "    }\n",
       "</style>\n",
       "<table border=\"1\" class=\"dataframe\">\n",
       "  <thead>\n",
       "    <tr style=\"text-align: right;\">\n",
       "      <th></th>\n",
       "      <th>Country</th>\n",
       "      <th>2014</th>\n",
       "      <th>2015</th>\n",
       "      <th>2016</th>\n",
       "      <th>2017</th>\n",
       "    </tr>\n",
       "  </thead>\n",
       "  <tbody>\n",
       "    <tr>\n",
       "      <th>0</th>\n",
       "      <td>AFG</td>\n",
       "      <td>L</td>\n",
       "      <td>L</td>\n",
       "      <td>L</td>\n",
       "      <td>L</td>\n",
       "    </tr>\n",
       "    <tr>\n",
       "      <th>1</th>\n",
       "      <td>ALB</td>\n",
       "      <td>UM</td>\n",
       "      <td>UM</td>\n",
       "      <td>UM</td>\n",
       "      <td>UM</td>\n",
       "    </tr>\n",
       "    <tr>\n",
       "      <th>2</th>\n",
       "      <td>DZA</td>\n",
       "      <td>UM</td>\n",
       "      <td>UM</td>\n",
       "      <td>UM</td>\n",
       "      <td>UM</td>\n",
       "    </tr>\n",
       "    <tr>\n",
       "      <th>6</th>\n",
       "      <td>ATG</td>\n",
       "      <td>H</td>\n",
       "      <td>H</td>\n",
       "      <td>H</td>\n",
       "      <td>H</td>\n",
       "    </tr>\n",
       "    <tr>\n",
       "      <th>7</th>\n",
       "      <td>ARG</td>\n",
       "      <td>H</td>\n",
       "      <td>UM</td>\n",
       "      <td>UM</td>\n",
       "      <td>H</td>\n",
       "    </tr>\n",
       "    <tr>\n",
       "      <th>...</th>\n",
       "      <td>...</td>\n",
       "      <td>...</td>\n",
       "      <td>...</td>\n",
       "      <td>...</td>\n",
       "      <td>...</td>\n",
       "    </tr>\n",
       "    <tr>\n",
       "      <th>210</th>\n",
       "      <td>VUT</td>\n",
       "      <td>LM</td>\n",
       "      <td>LM</td>\n",
       "      <td>LM</td>\n",
       "      <td>LM</td>\n",
       "    </tr>\n",
       "    <tr>\n",
       "      <th>211</th>\n",
       "      <td>VEN</td>\n",
       "      <td>H</td>\n",
       "      <td>UM</td>\n",
       "      <td>UM</td>\n",
       "      <td>UM</td>\n",
       "    </tr>\n",
       "    <tr>\n",
       "      <th>215</th>\n",
       "      <td>YEM</td>\n",
       "      <td>LM</td>\n",
       "      <td>LM</td>\n",
       "      <td>LM</td>\n",
       "      <td>L</td>\n",
       "    </tr>\n",
       "    <tr>\n",
       "      <th>216</th>\n",
       "      <td>ZMB</td>\n",
       "      <td>LM</td>\n",
       "      <td>LM</td>\n",
       "      <td>LM</td>\n",
       "      <td>LM</td>\n",
       "    </tr>\n",
       "    <tr>\n",
       "      <th>217</th>\n",
       "      <td>ZWE</td>\n",
       "      <td>L</td>\n",
       "      <td>L</td>\n",
       "      <td>L</td>\n",
       "      <td>L</td>\n",
       "    </tr>\n",
       "  </tbody>\n",
       "</table>\n",
       "<p>156 rows × 5 columns</p>\n",
       "</div>"
      ],
      "text/plain": [
       "    Country 2014 2015 2016 2017\n",
       "0       AFG    L    L    L    L\n",
       "1       ALB   UM   UM   UM   UM\n",
       "2       DZA   UM   UM   UM   UM\n",
       "6       ATG    H    H    H    H\n",
       "7       ARG    H   UM   UM    H\n",
       "..      ...  ...  ...  ...  ...\n",
       "210     VUT   LM   LM   LM   LM\n",
       "211     VEN    H   UM   UM   UM\n",
       "215     YEM   LM   LM   LM    L\n",
       "216     ZMB   LM   LM   LM   LM\n",
       "217     ZWE    L    L    L    L\n",
       "\n",
       "[156 rows x 5 columns]"
      ]
     },
     "execution_count": 23,
     "metadata": {},
     "output_type": "execute_result"
    }
   ],
   "source": [
    "income_df[income_df['Country'].isin(dict_countries.keys())]"
   ]
  },
  {
   "cell_type": "code",
   "execution_count": 24,
   "metadata": {},
   "outputs": [
    {
     "data": {
      "text/plain": [
       "set()"
      ]
     },
     "execution_count": 24,
     "metadata": {},
     "output_type": "execute_result"
    }
   ],
   "source": [
    "set(df['Area'].unique()) - set(dict_countries.values())"
   ]
  },
  {
   "cell_type": "code",
   "execution_count": 25,
   "metadata": {},
   "outputs": [
    {
     "data": {
      "text/plain": [
       "156"
      ]
     },
     "execution_count": 25,
     "metadata": {},
     "output_type": "execute_result"
    }
   ],
   "source": [
    "len(list_countries)"
   ]
  },
  {
   "cell_type": "code",
   "execution_count": 26,
   "metadata": {},
   "outputs": [
    {
     "data": {
      "text/plain": [
       "['Afghanistan',\n",
       " 'Albania',\n",
       " 'Algeria',\n",
       " 'Antigua and Barbuda',\n",
       " 'Argentina',\n",
       " 'Armenia',\n",
       " 'Australia',\n",
       " 'Austria',\n",
       " 'Azerbaijan',\n",
       " 'Bahamas',\n",
       " 'Bangladesh',\n",
       " 'Barbados',\n",
       " 'Belarus',\n",
       " 'Belgium',\n",
       " 'Belize',\n",
       " 'Benin',\n",
       " 'Bolivia (Plurinational State of)',\n",
       " 'Bosnia and Herzegovina',\n",
       " 'Botswana',\n",
       " 'Brazil',\n",
       " 'Bulgaria',\n",
       " 'Burkina Faso',\n",
       " 'Cabo Verde',\n",
       " 'Cambodia',\n",
       " 'Cameroon',\n",
       " 'Canada',\n",
       " 'Central African Republic',\n",
       " 'Chile',\n",
       " 'China, Hong Kong SAR',\n",
       " 'China, Macao SAR',\n",
       " 'China, mainland',\n",
       " 'China, Taiwan Province of',\n",
       " 'Colombia',\n",
       " 'Comoros',\n",
       " 'Congo',\n",
       " 'Costa Rica',\n",
       " \"Côte d'Ivoire\",\n",
       " 'Croatia',\n",
       " 'Cuba',\n",
       " 'Cyprus',\n",
       " 'Czechia',\n",
       " 'Denmark',\n",
       " 'Djibouti',\n",
       " 'Dominica',\n",
       " 'Ecuador',\n",
       " 'Egypt',\n",
       " 'El Salvador',\n",
       " 'Estonia',\n",
       " 'Eswatini',\n",
       " 'Ethiopia',\n",
       " 'Fiji',\n",
       " 'Finland',\n",
       " 'France',\n",
       " 'French Polynesia',\n",
       " 'Gabon',\n",
       " 'Gambia',\n",
       " 'Georgia',\n",
       " 'Germany',\n",
       " 'Ghana',\n",
       " 'Greece',\n",
       " 'Grenada',\n",
       " 'Guatemala',\n",
       " 'Guinea',\n",
       " 'Guyana',\n",
       " 'Honduras',\n",
       " 'Hungary',\n",
       " 'Iceland',\n",
       " 'India',\n",
       " 'Indonesia',\n",
       " 'Iran (Islamic Republic of)',\n",
       " 'Ireland',\n",
       " 'Israel',\n",
       " 'Italy',\n",
       " 'Jamaica',\n",
       " 'Japan',\n",
       " 'Jordan',\n",
       " 'Kazakhstan',\n",
       " 'Kenya',\n",
       " 'Kiribati',\n",
       " 'Kuwait',\n",
       " 'Kyrgyzstan',\n",
       " 'Latvia',\n",
       " 'Lebanon',\n",
       " 'Lithuania',\n",
       " 'Luxembourg',\n",
       " 'Madagascar',\n",
       " 'Malawi',\n",
       " 'Malaysia',\n",
       " 'Maldives',\n",
       " 'Mali',\n",
       " 'Malta',\n",
       " 'Mauritania',\n",
       " 'Mauritius',\n",
       " 'Mexico',\n",
       " 'Mongolia',\n",
       " 'Montenegro',\n",
       " 'Morocco',\n",
       " 'Namibia',\n",
       " 'Nepal',\n",
       " 'Netherlands',\n",
       " 'New Caledonia',\n",
       " 'New Zealand',\n",
       " 'Nicaragua',\n",
       " 'Niger',\n",
       " 'Nigeria',\n",
       " 'North Macedonia',\n",
       " 'Norway',\n",
       " 'Oman',\n",
       " 'Pakistan',\n",
       " 'Panama',\n",
       " 'Papua New Guinea',\n",
       " 'Paraguay',\n",
       " 'Peru',\n",
       " 'Philippines',\n",
       " 'Poland',\n",
       " 'Portugal',\n",
       " 'Republic of Korea',\n",
       " 'Republic of Moldova',\n",
       " 'Romania',\n",
       " 'Russian Federation',\n",
       " 'Rwanda',\n",
       " 'Saint Kitts and Nevis',\n",
       " 'Saint Lucia',\n",
       " 'Saint Vincent and the Grenadines',\n",
       " 'Sao Tome and Principe',\n",
       " 'Saudi Arabia',\n",
       " 'Senegal',\n",
       " 'Serbia',\n",
       " 'Seychelles',\n",
       " 'Sierra Leone',\n",
       " 'Slovakia',\n",
       " 'Slovenia',\n",
       " 'Solomon Islands',\n",
       " 'South Africa',\n",
       " 'Spain',\n",
       " 'Sri Lanka',\n",
       " 'Suriname',\n",
       " 'Sweden',\n",
       " 'Switzerland',\n",
       " 'Thailand',\n",
       " 'Togo',\n",
       " 'Trinidad and Tobago',\n",
       " 'Tunisia',\n",
       " 'Turkey',\n",
       " 'Uganda',\n",
       " 'Ukraine',\n",
       " 'United Arab Emirates',\n",
       " 'United Kingdom of Great Britain and Northern Ireland',\n",
       " 'United Republic of Tanzania',\n",
       " 'United States of America',\n",
       " 'Uruguay',\n",
       " 'Vanuatu',\n",
       " 'Venezuela (Bolivarian Republic of)',\n",
       " 'Yemen',\n",
       " 'Zambia',\n",
       " 'Zimbabwe']"
      ]
     },
     "execution_count": 26,
     "metadata": {},
     "output_type": "execute_result"
    }
   ],
   "source": [
    "list(df['Area'].unique())"
   ]
  },
  {
   "cell_type": "code",
   "execution_count": 27,
   "metadata": {},
   "outputs": [
    {
     "data": {
      "text/plain": [
       "['AFG',\n",
       " 'ALB',\n",
       " 'DZA',\n",
       " 'ATG',\n",
       " 'ARG',\n",
       " 'ARM',\n",
       " 'AUS',\n",
       " 'AUT',\n",
       " 'AZE',\n",
       " 'BHS',\n",
       " 'BGD',\n",
       " 'BRB',\n",
       " 'BLR',\n",
       " 'BEL',\n",
       " 'BLZ',\n",
       " 'BEN',\n",
       " 'BOL',\n",
       " 'BIH',\n",
       " 'BWA',\n",
       " 'BRA',\n",
       " 'BGR',\n",
       " 'BFA',\n",
       " 'CPV',\n",
       " 'KHM',\n",
       " 'CMR',\n",
       " 'CAN',\n",
       " 'CAF',\n",
       " 'CHL',\n",
       " 'HKG',\n",
       " 'MAC',\n",
       " 'CHN',\n",
       " 'TWN',\n",
       " 'COL',\n",
       " 'COM',\n",
       " 'COG',\n",
       " 'CRI',\n",
       " 'CIV',\n",
       " 'HRV',\n",
       " 'CUB',\n",
       " 'CYP',\n",
       " 'CZE',\n",
       " 'DNK',\n",
       " 'DJI',\n",
       " 'DMA',\n",
       " 'ECU',\n",
       " 'EGY',\n",
       " 'SLV',\n",
       " 'EST',\n",
       " 'SWZ',\n",
       " 'ETH',\n",
       " 'FJI',\n",
       " 'FIN',\n",
       " 'FRA',\n",
       " 'PYF',\n",
       " 'GAB',\n",
       " 'GMB',\n",
       " 'GEO',\n",
       " 'DEU',\n",
       " 'GHA',\n",
       " 'GRC',\n",
       " 'GRD',\n",
       " 'GTM',\n",
       " 'GIN',\n",
       " 'GUY',\n",
       " 'HND',\n",
       " 'HUN',\n",
       " 'ISL',\n",
       " 'IND',\n",
       " 'IDN',\n",
       " 'IRN',\n",
       " 'IRL',\n",
       " 'ISR',\n",
       " 'ITA',\n",
       " 'JAM',\n",
       " 'JPN',\n",
       " 'JOR',\n",
       " 'KAZ',\n",
       " 'KEN',\n",
       " 'KIR',\n",
       " 'KWT',\n",
       " 'KGZ',\n",
       " 'LVA',\n",
       " 'LBN',\n",
       " 'LTU',\n",
       " 'LUX',\n",
       " 'MDG',\n",
       " 'MWI',\n",
       " 'MYS',\n",
       " 'MDV',\n",
       " 'MLI',\n",
       " 'MLT',\n",
       " 'MRT',\n",
       " 'MUS',\n",
       " 'MEX',\n",
       " 'MNG',\n",
       " 'MNE',\n",
       " 'MAR',\n",
       " 'NAM',\n",
       " 'NPL',\n",
       " 'NLD',\n",
       " 'NCL',\n",
       " 'NZL',\n",
       " 'NIC',\n",
       " 'NER',\n",
       " 'NGA',\n",
       " 'MKD',\n",
       " 'NOR',\n",
       " 'OMN',\n",
       " 'PAK',\n",
       " 'PAN',\n",
       " 'PNG',\n",
       " 'PRY',\n",
       " 'PER',\n",
       " 'PHL',\n",
       " 'POL',\n",
       " 'PRT',\n",
       " 'KOR',\n",
       " 'MDA',\n",
       " 'ROU',\n",
       " 'RUS',\n",
       " 'RWA',\n",
       " 'KNA',\n",
       " 'LCA',\n",
       " 'VCT',\n",
       " 'STP',\n",
       " 'SAU',\n",
       " 'SEN',\n",
       " 'SRB',\n",
       " 'SYC',\n",
       " 'SLE',\n",
       " 'SVK',\n",
       " 'SVN',\n",
       " 'SLB',\n",
       " 'ZAF',\n",
       " 'ESP',\n",
       " 'LKA',\n",
       " 'SUR',\n",
       " 'SWE',\n",
       " 'CHE',\n",
       " 'THA',\n",
       " 'TGO',\n",
       " 'TTO',\n",
       " 'TUN',\n",
       " 'TUR',\n",
       " 'UGA',\n",
       " 'UKR',\n",
       " 'ARE',\n",
       " 'GBR',\n",
       " 'TZA',\n",
       " 'USA',\n",
       " 'URY',\n",
       " 'VUT',\n",
       " 'VEN',\n",
       " 'YEM',\n",
       " 'ZMB',\n",
       " 'ZWE']"
      ]
     },
     "execution_count": 27,
     "metadata": {},
     "output_type": "execute_result"
    }
   ],
   "source": [
    "list_countries"
   ]
  }
 ],
 "metadata": {
  "interpreter": {
   "hash": "ecf5722fdaf1897a315d257d89d94520bfcaa453217d5becf09b39e73618b0de"
  },
  "kernelspec": {
   "display_name": "Python 3.8.5 ('base')",
   "language": "python",
   "name": "python3"
  },
  "language_info": {
   "codemirror_mode": {
    "name": "ipython",
    "version": 3
   },
   "file_extension": ".py",
   "mimetype": "text/x-python",
   "name": "python",
   "nbconvert_exporter": "python",
   "pygments_lexer": "ipython3",
   "version": "3.8.5"
  },
  "orig_nbformat": 4
 },
 "nbformat": 4,
 "nbformat_minor": 2
}
