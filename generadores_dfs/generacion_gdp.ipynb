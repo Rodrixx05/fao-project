{
 "cells": [
  {
   "cell_type": "code",
   "execution_count": 1,
   "metadata": {},
   "outputs": [],
   "source": [
    "import pandas as pd\n",
    "from pandas_datareader import wb\n",
    "import country_converter as coco\n",
    "import os"
   ]
  },
  {
   "cell_type": "code",
   "execution_count": 2,
   "metadata": {},
   "outputs": [],
   "source": [
    "os.chdir('..')"
   ]
  },
  {
   "cell_type": "code",
   "execution_count": 3,
   "metadata": {},
   "outputs": [
    {
     "data": {
      "text/plain": [
       "'c:\\\\Users\\\\marcr\\\\OneDrive\\\\Documents\\\\Data Science\\\\NDS\\\\fao-project'"
      ]
     },
     "execution_count": 3,
     "metadata": {},
     "output_type": "execute_result"
    }
   ],
   "source": [
    "os.getcwd()"
   ]
  },
  {
   "cell_type": "code",
   "execution_count": 4,
   "metadata": {},
   "outputs": [],
   "source": [
    "df = pd.read_pickle(os.path.join('dataframes_pkl', 'df_global_format.pkl'))"
   ]
  },
  {
   "cell_type": "code",
   "execution_count": 5,
   "metadata": {},
   "outputs": [
    {
     "name": "stderr",
     "output_type": "stream",
     "text": [
      "More then one regular expression match for China, Taiwan Province of\n",
      "More then one regular expression match for China, Taiwan Province of\n",
      "More then one regular expression match for China, Taiwan Province of\n",
      "More then one regular expression match for China, Taiwan Province of\n",
      "More then one regular expression match for China, Taiwan Province of\n",
      "More then one regular expression match for China, Taiwan Province of\n",
      "More then one regular expression match for China, Taiwan Province of\n",
      "More then one regular expression match for China, Taiwan Province of\n",
      "More then one regular expression match for China, Taiwan Province of\n",
      "More then one regular expression match for China, Taiwan Province of\n",
      "More then one regular expression match for China, Taiwan Province of\n",
      "More then one regular expression match for China, Taiwan Province of\n",
      "More then one regular expression match for China, Taiwan Province of\n",
      "More then one regular expression match for China, Taiwan Province of\n",
      "More then one regular expression match for China, Taiwan Province of\n",
      "More then one regular expression match for China, Taiwan Province of\n",
      "More then one regular expression match for China, Taiwan Province of\n",
      "More then one regular expression match for China, Taiwan Province of\n",
      "More then one regular expression match for China, Taiwan Province of\n",
      "More then one regular expression match for China, Taiwan Province of\n",
      "More then one regular expression match for China, Taiwan Province of\n",
      "More then one regular expression match for China, Taiwan Province of\n",
      "More then one regular expression match for China, Taiwan Province of\n",
      "More then one regular expression match for China, Taiwan Province of\n",
      "More then one regular expression match for China, Taiwan Province of\n",
      "More then one regular expression match for China, Taiwan Province of\n",
      "More then one regular expression match for China, Taiwan Province of\n",
      "More then one regular expression match for China, Taiwan Province of\n",
      "More then one regular expression match for China, Taiwan Province of\n",
      "More then one regular expression match for China, Taiwan Province of\n",
      "More then one regular expression match for China, Taiwan Province of\n",
      "More then one regular expression match for China, Taiwan Province of\n"
     ]
    }
   ],
   "source": [
    "list_countries = coco.CountryConverter().convert(df['Area'].unique())"
   ]
  },
  {
   "cell_type": "code",
   "execution_count": 6,
   "metadata": {},
   "outputs": [],
   "source": [
    "list_countries = list(map(lambda x: x[1] if type(x) is list else x, list_countries))"
   ]
  },
  {
   "cell_type": "code",
   "execution_count": 7,
   "metadata": {},
   "outputs": [],
   "source": [
    "dict_countries = dict(zip(list_countries, df['Area'].unique()))"
   ]
  },
  {
   "cell_type": "code",
   "execution_count": 8,
   "metadata": {},
   "outputs": [],
   "source": [
    "gdp_df = wb.download(country = list_countries, indicator = 'NY.GDP.PCAP.CD', start = df['Year'].min(), end = df['Year'].max())"
   ]
  },
  {
   "cell_type": "code",
   "execution_count": 9,
   "metadata": {},
   "outputs": [
    {
     "data": {
      "text/html": [
       "<div>\n",
       "<style scoped>\n",
       "    .dataframe tbody tr th:only-of-type {\n",
       "        vertical-align: middle;\n",
       "    }\n",
       "\n",
       "    .dataframe tbody tr th {\n",
       "        vertical-align: top;\n",
       "    }\n",
       "\n",
       "    .dataframe thead th {\n",
       "        text-align: right;\n",
       "    }\n",
       "</style>\n",
       "<table border=\"1\" class=\"dataframe\">\n",
       "  <thead>\n",
       "    <tr style=\"text-align: right;\">\n",
       "      <th></th>\n",
       "      <th></th>\n",
       "      <th>NY.GDP.PCAP.CD</th>\n",
       "    </tr>\n",
       "    <tr>\n",
       "      <th>country</th>\n",
       "      <th>year</th>\n",
       "      <th></th>\n",
       "    </tr>\n",
       "  </thead>\n",
       "  <tbody>\n",
       "    <tr>\n",
       "      <th rowspan=\"4\" valign=\"top\">French Polynesia</th>\n",
       "      <th>2017</th>\n",
       "      <td>NaN</td>\n",
       "    </tr>\n",
       "    <tr>\n",
       "      <th>2016</th>\n",
       "      <td>NaN</td>\n",
       "    </tr>\n",
       "    <tr>\n",
       "      <th>2015</th>\n",
       "      <td>NaN</td>\n",
       "    </tr>\n",
       "    <tr>\n",
       "      <th>2014</th>\n",
       "      <td>NaN</td>\n",
       "    </tr>\n",
       "    <tr>\n",
       "      <th rowspan=\"3\" valign=\"top\">Venezuela, RB</th>\n",
       "      <th>2017</th>\n",
       "      <td>NaN</td>\n",
       "    </tr>\n",
       "    <tr>\n",
       "      <th>2016</th>\n",
       "      <td>NaN</td>\n",
       "    </tr>\n",
       "    <tr>\n",
       "      <th>2015</th>\n",
       "      <td>NaN</td>\n",
       "    </tr>\n",
       "  </tbody>\n",
       "</table>\n",
       "</div>"
      ],
      "text/plain": [
       "                       NY.GDP.PCAP.CD\n",
       "country          year                \n",
       "French Polynesia 2017             NaN\n",
       "                 2016             NaN\n",
       "                 2015             NaN\n",
       "                 2014             NaN\n",
       "Venezuela, RB    2017             NaN\n",
       "                 2016             NaN\n",
       "                 2015             NaN"
      ]
     },
     "execution_count": 9,
     "metadata": {},
     "output_type": "execute_result"
    }
   ],
   "source": [
    "gdp_df[gdp_df['NY.GDP.PCAP.CD'].isnull()]"
   ]
  },
  {
   "cell_type": "code",
   "execution_count": 10,
   "metadata": {},
   "outputs": [],
   "source": [
    "gdp_pyf = wb.download(country = 'PYF', indicator = 'NY.GDP.PCAP.CD', start = 2000, end = 2000).iloc[0,0]"
   ]
  },
  {
   "cell_type": "code",
   "execution_count": 11,
   "metadata": {},
   "outputs": [],
   "source": [
    "gdp_df.columns = ['GDP_PCAP']"
   ]
  },
  {
   "cell_type": "code",
   "execution_count": 12,
   "metadata": {},
   "outputs": [],
   "source": [
    "gdp_df.reset_index(inplace = True)"
   ]
  },
  {
   "cell_type": "code",
   "execution_count": 13,
   "metadata": {},
   "outputs": [],
   "source": [
    "pyf_index = gdp_df[gdp_df['country'] == 'French Polynesia'].index\n",
    "gdp_df.loc[pyf_index, 'GDP_PCAP'] = gdp_df.loc[pyf_index, 'GDP_PCAP'].fillna(gdp_pyf)"
   ]
  },
  {
   "cell_type": "code",
   "execution_count": 14,
   "metadata": {},
   "outputs": [],
   "source": [
    "ven_gdp = gdp_df[gdp_df['country'] == 'Venezuela, RB'].iloc[3, 2]"
   ]
  },
  {
   "cell_type": "code",
   "execution_count": 15,
   "metadata": {},
   "outputs": [],
   "source": [
    "gdp_df.fillna(ven_gdp, inplace = True)"
   ]
  },
  {
   "cell_type": "code",
   "execution_count": 16,
   "metadata": {},
   "outputs": [
    {
     "data": {
      "text/plain": [
       "country     0\n",
       "year        0\n",
       "GDP_PCAP    0\n",
       "dtype: int64"
      ]
     },
     "execution_count": 16,
     "metadata": {},
     "output_type": "execute_result"
    }
   ],
   "source": [
    "gdp_df.isnull().sum()"
   ]
  },
  {
   "cell_type": "code",
   "execution_count": 17,
   "metadata": {},
   "outputs": [],
   "source": [
    "gdp_df.rename({'country': 'Area', 'year': 'Year'}, axis = 1, inplace = True)"
   ]
  },
  {
   "cell_type": "code",
   "execution_count": 18,
   "metadata": {},
   "outputs": [],
   "source": [
    "gdp_df['Area'] = coco.CountryConverter().convert(gdp_df['Area'])"
   ]
  },
  {
   "cell_type": "code",
   "execution_count": 19,
   "metadata": {},
   "outputs": [],
   "source": [
    "gdp_df['Area'].replace(dict_countries, inplace = True)"
   ]
  },
  {
   "cell_type": "code",
   "execution_count": 20,
   "metadata": {},
   "outputs": [],
   "source": [
    "gdp_taiwan = pd.DataFrame({'Area': 'China, Taiwan Province of', 'Year': ['2014', '2015', '2016', '2017'], 'GDP_PCAP': [22668, 22400, 22592, 24408]})"
   ]
  },
  {
   "cell_type": "code",
   "execution_count": 21,
   "metadata": {},
   "outputs": [],
   "source": [
    "gdp_df = gdp_df.append(gdp_taiwan).reset_index(drop = True)"
   ]
  },
  {
   "cell_type": "code",
   "execution_count": 22,
   "metadata": {},
   "outputs": [],
   "source": [
    "gdp_df.to_pickle(os.path.join('dataframes_pkl', 'df_gdp.pkl'))"
   ]
  },
  {
   "cell_type": "code",
   "execution_count": 20,
   "metadata": {},
   "outputs": [],
   "source": [
    "url = 'http://databank.worldbank.org/data/download/site-content/OGHIST.xlsx'\n",
    "income_df = pd.read_excel(url, sheet_name = 'Country Analytical History', header = None, names = ['Country', 2014, 2015, 2016, 2017], index_col = 0, engine = 'openpyxl', usecols = 'A,AD:AG', skiprows=11, skipfooter = 11)"
   ]
  },
  {
   "cell_type": "code",
   "execution_count": 22,
   "metadata": {},
   "outputs": [],
   "source": [
    "income_df.reset_index(inplace = True)"
   ]
  },
  {
   "cell_type": "code",
   "execution_count": 23,
   "metadata": {},
   "outputs": [],
   "source": [
    "income_df = income_df[income_df['Country'].isin(dict_countries.keys())].reset_index()"
   ]
  },
  {
   "cell_type": "code",
   "execution_count": 24,
   "metadata": {},
   "outputs": [],
   "source": [
    "income_df['Country'].replace(dict_countries, inplace = True)"
   ]
  },
  {
   "cell_type": "code",
   "execution_count": 25,
   "metadata": {},
   "outputs": [],
   "source": [
    "income_df = pd.melt(income_df, id_vars = ['Country'], value_vars = [2014, 2015, 2016, 2017])"
   ]
  },
  {
   "cell_type": "code",
   "execution_count": 26,
   "metadata": {},
   "outputs": [],
   "source": [
    "labels = {\n",
    "    'L': 'Low Income',\n",
    "    'LM': 'Low Middle Income',\n",
    "    'UM': 'Upper Middle Income',\n",
    "    'H': 'High Income'\n",
    "}\n",
    "income_df['value'].replace(labels, inplace = True)"
   ]
  },
  {
   "cell_type": "code",
   "execution_count": 27,
   "metadata": {},
   "outputs": [],
   "source": [
    "income_df.rename({'Country': 'Area', 'variable': 'Year', 'value': 'Income Group'}, axis = 1, inplace = True)"
   ]
  },
  {
   "cell_type": "code",
   "execution_count": 28,
   "metadata": {},
   "outputs": [],
   "source": [
    "income_df.to_pickle(os.path.join('dataframes_pkl', 'df_income.pkl'))"
   ]
  },
  {
   "cell_type": "code",
   "execution_count": 34,
   "metadata": {},
   "outputs": [
    {
     "data": {
      "text/html": [
       "<div>\n",
       "<style scoped>\n",
       "    .dataframe tbody tr th:only-of-type {\n",
       "        vertical-align: middle;\n",
       "    }\n",
       "\n",
       "    .dataframe tbody tr th {\n",
       "        vertical-align: top;\n",
       "    }\n",
       "\n",
       "    .dataframe thead th {\n",
       "        text-align: right;\n",
       "    }\n",
       "</style>\n",
       "<table border=\"1\" class=\"dataframe\">\n",
       "  <thead>\n",
       "    <tr style=\"text-align: right;\">\n",
       "      <th></th>\n",
       "      <th>Year</th>\n",
       "      <th>Income Group</th>\n",
       "    </tr>\n",
       "    <tr>\n",
       "      <th>Area</th>\n",
       "      <th></th>\n",
       "      <th></th>\n",
       "    </tr>\n",
       "  </thead>\n",
       "  <tbody>\n",
       "    <tr>\n",
       "      <th>Afghanistan</th>\n",
       "      <td>2014</td>\n",
       "      <td>Low Income</td>\n",
       "    </tr>\n",
       "    <tr>\n",
       "      <th>Netherlands</th>\n",
       "      <td>2014</td>\n",
       "      <td>High Income</td>\n",
       "    </tr>\n",
       "    <tr>\n",
       "      <th>New Caledonia</th>\n",
       "      <td>2014</td>\n",
       "      <td>High Income</td>\n",
       "    </tr>\n",
       "    <tr>\n",
       "      <th>New Zealand</th>\n",
       "      <td>2014</td>\n",
       "      <td>High Income</td>\n",
       "    </tr>\n",
       "    <tr>\n",
       "      <th>Nicaragua</th>\n",
       "      <td>2014</td>\n",
       "      <td>Low Middle Income</td>\n",
       "    </tr>\n",
       "    <tr>\n",
       "      <th>...</th>\n",
       "      <td>...</td>\n",
       "      <td>...</td>\n",
       "    </tr>\n",
       "    <tr>\n",
       "      <th>Gambia</th>\n",
       "      <td>2017</td>\n",
       "      <td>Low Income</td>\n",
       "    </tr>\n",
       "    <tr>\n",
       "      <th>Georgia</th>\n",
       "      <td>2017</td>\n",
       "      <td>Low Middle Income</td>\n",
       "    </tr>\n",
       "    <tr>\n",
       "      <th>Germany</th>\n",
       "      <td>2017</td>\n",
       "      <td>High Income</td>\n",
       "    </tr>\n",
       "    <tr>\n",
       "      <th>Fiji</th>\n",
       "      <td>2017</td>\n",
       "      <td>Upper Middle Income</td>\n",
       "    </tr>\n",
       "    <tr>\n",
       "      <th>Zimbabwe</th>\n",
       "      <td>2017</td>\n",
       "      <td>Low Income</td>\n",
       "    </tr>\n",
       "  </tbody>\n",
       "</table>\n",
       "<p>624 rows × 2 columns</p>\n",
       "</div>"
      ],
      "text/plain": [
       "               Year         Income Group\n",
       "Area                                    \n",
       "Afghanistan    2014           Low Income\n",
       "Netherlands    2014          High Income\n",
       "New Caledonia  2014          High Income\n",
       "New Zealand    2014          High Income\n",
       "Nicaragua      2014    Low Middle Income\n",
       "...             ...                  ...\n",
       "Gambia         2017           Low Income\n",
       "Georgia        2017    Low Middle Income\n",
       "Germany        2017          High Income\n",
       "Fiji           2017  Upper Middle Income\n",
       "Zimbabwe       2017           Low Income\n",
       "\n",
       "[624 rows x 2 columns]"
      ]
     },
     "execution_count": 34,
     "metadata": {},
     "output_type": "execute_result"
    }
   ],
   "source": []
  }
 ],
 "metadata": {
  "interpreter": {
   "hash": "ecf5722fdaf1897a315d257d89d94520bfcaa453217d5becf09b39e73618b0de"
  },
  "kernelspec": {
   "display_name": "Python 3.8.5 ('base')",
   "language": "python",
   "name": "python3"
  },
  "language_info": {
   "codemirror_mode": {
    "name": "ipython",
    "version": 3
   },
   "file_extension": ".py",
   "mimetype": "text/x-python",
   "name": "python",
   "nbconvert_exporter": "python",
   "pygments_lexer": "ipython3",
   "version": "3.8.5"
  },
  "orig_nbformat": 4
 },
 "nbformat": 4,
 "nbformat_minor": 2
}
