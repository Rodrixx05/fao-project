{
 "cells": [
  {
   "cell_type": "code",
   "execution_count": 1,
   "metadata": {},
   "outputs": [],
   "source": [
    "import pandas as pd\n",
    "import os"
   ]
  },
  {
   "cell_type": "code",
   "execution_count": 3,
   "metadata": {},
   "outputs": [],
   "source": [
    "os.chdir('..')"
   ]
  },
  {
   "cell_type": "code",
   "execution_count": 3,
   "metadata": {},
   "outputs": [],
   "source": [
    "prices_df = pd.read_csv(os.path.join('datos_fao', 'Prices_E_All_Data_(Normalized).csv'), header = 0, encoding='latin1')"
   ]
  },
  {
   "cell_type": "code",
   "execution_count": 4,
   "metadata": {},
   "outputs": [
    {
     "data": {
      "text/html": [
       "<div>\n",
       "<style scoped>\n",
       "    .dataframe tbody tr th:only-of-type {\n",
       "        vertical-align: middle;\n",
       "    }\n",
       "\n",
       "    .dataframe tbody tr th {\n",
       "        vertical-align: top;\n",
       "    }\n",
       "\n",
       "    .dataframe thead th {\n",
       "        text-align: right;\n",
       "    }\n",
       "</style>\n",
       "<table border=\"1\" class=\"dataframe\">\n",
       "  <thead>\n",
       "    <tr style=\"text-align: right;\">\n",
       "      <th></th>\n",
       "      <th>Area Code</th>\n",
       "      <th>Area</th>\n",
       "      <th>Item Code</th>\n",
       "      <th>Item</th>\n",
       "      <th>Element Code</th>\n",
       "      <th>Element</th>\n",
       "      <th>Year Code</th>\n",
       "      <th>Year</th>\n",
       "      <th>Months Code</th>\n",
       "      <th>Months</th>\n",
       "      <th>Unit</th>\n",
       "      <th>Value</th>\n",
       "      <th>Flag</th>\n",
       "    </tr>\n",
       "  </thead>\n",
       "  <tbody>\n",
       "    <tr>\n",
       "      <th>0</th>\n",
       "      <td>2</td>\n",
       "      <td>Afghanistan</td>\n",
       "      <td>221</td>\n",
       "      <td>Almonds, with shell</td>\n",
       "      <td>5530</td>\n",
       "      <td>Producer Price (LCU/tonne)</td>\n",
       "      <td>1993</td>\n",
       "      <td>1993</td>\n",
       "      <td>7021</td>\n",
       "      <td>Annual value</td>\n",
       "      <td>LCU</td>\n",
       "      <td>46000.0</td>\n",
       "      <td>NaN</td>\n",
       "    </tr>\n",
       "    <tr>\n",
       "      <th>1</th>\n",
       "      <td>2</td>\n",
       "      <td>Afghanistan</td>\n",
       "      <td>221</td>\n",
       "      <td>Almonds, with shell</td>\n",
       "      <td>5530</td>\n",
       "      <td>Producer Price (LCU/tonne)</td>\n",
       "      <td>1994</td>\n",
       "      <td>1994</td>\n",
       "      <td>7021</td>\n",
       "      <td>Annual value</td>\n",
       "      <td>LCU</td>\n",
       "      <td>50000.0</td>\n",
       "      <td>NaN</td>\n",
       "    </tr>\n",
       "    <tr>\n",
       "      <th>2</th>\n",
       "      <td>2</td>\n",
       "      <td>Afghanistan</td>\n",
       "      <td>221</td>\n",
       "      <td>Almonds, with shell</td>\n",
       "      <td>5530</td>\n",
       "      <td>Producer Price (LCU/tonne)</td>\n",
       "      <td>1995</td>\n",
       "      <td>1995</td>\n",
       "      <td>7021</td>\n",
       "      <td>Annual value</td>\n",
       "      <td>LCU</td>\n",
       "      <td>62000.0</td>\n",
       "      <td>NaN</td>\n",
       "    </tr>\n",
       "    <tr>\n",
       "      <th>3</th>\n",
       "      <td>2</td>\n",
       "      <td>Afghanistan</td>\n",
       "      <td>221</td>\n",
       "      <td>Almonds, with shell</td>\n",
       "      <td>5530</td>\n",
       "      <td>Producer Price (LCU/tonne)</td>\n",
       "      <td>1996</td>\n",
       "      <td>1996</td>\n",
       "      <td>7021</td>\n",
       "      <td>Annual value</td>\n",
       "      <td>LCU</td>\n",
       "      <td>50000.0</td>\n",
       "      <td>NaN</td>\n",
       "    </tr>\n",
       "    <tr>\n",
       "      <th>4</th>\n",
       "      <td>2</td>\n",
       "      <td>Afghanistan</td>\n",
       "      <td>221</td>\n",
       "      <td>Almonds, with shell</td>\n",
       "      <td>5530</td>\n",
       "      <td>Producer Price (LCU/tonne)</td>\n",
       "      <td>1997</td>\n",
       "      <td>1997</td>\n",
       "      <td>7021</td>\n",
       "      <td>Annual value</td>\n",
       "      <td>LCU</td>\n",
       "      <td>41000.0</td>\n",
       "      <td>NaN</td>\n",
       "    </tr>\n",
       "  </tbody>\n",
       "</table>\n",
       "</div>"
      ],
      "text/plain": [
       "   Area Code         Area  Item Code                 Item  Element Code  \\\n",
       "0          2  Afghanistan        221  Almonds, with shell          5530   \n",
       "1          2  Afghanistan        221  Almonds, with shell          5530   \n",
       "2          2  Afghanistan        221  Almonds, with shell          5530   \n",
       "3          2  Afghanistan        221  Almonds, with shell          5530   \n",
       "4          2  Afghanistan        221  Almonds, with shell          5530   \n",
       "\n",
       "                      Element  Year Code  Year  Months Code        Months  \\\n",
       "0  Producer Price (LCU/tonne)       1993  1993         7021  Annual value   \n",
       "1  Producer Price (LCU/tonne)       1994  1994         7021  Annual value   \n",
       "2  Producer Price (LCU/tonne)       1995  1995         7021  Annual value   \n",
       "3  Producer Price (LCU/tonne)       1996  1996         7021  Annual value   \n",
       "4  Producer Price (LCU/tonne)       1997  1997         7021  Annual value   \n",
       "\n",
       "  Unit    Value Flag  \n",
       "0  LCU  46000.0  NaN  \n",
       "1  LCU  50000.0  NaN  \n",
       "2  LCU  62000.0  NaN  \n",
       "3  LCU  50000.0  NaN  \n",
       "4  LCU  41000.0  NaN  "
      ]
     },
     "execution_count": 4,
     "metadata": {},
     "output_type": "execute_result"
    }
   ],
   "source": [
    "prices_df.head()"
   ]
  },
  {
   "cell_type": "code",
   "execution_count": 4,
   "metadata": {},
   "outputs": [],
   "source": [
    "df = pd.read_pickle(os.path.join('dataframes_pkl', 'df_global_format.pkl'))"
   ]
  },
  {
   "cell_type": "code",
   "execution_count": 6,
   "metadata": {},
   "outputs": [],
   "source": [
    "unique_area = df['Area'].unique()\n",
    "unique_item = df['Item'].unique()\n",
    "unique_year = df['Year'].unique()"
   ]
  },
  {
   "cell_type": "code",
   "execution_count": 7,
   "metadata": {},
   "outputs": [],
   "source": [
    "prices_df = prices_df[(prices_df['Element Code'] == 5532) & (prices_df['Months Code'] == 7021)]"
   ]
  },
  {
   "cell_type": "code",
   "execution_count": 8,
   "metadata": {},
   "outputs": [],
   "source": [
    "prices_df.drop(columns = ['Months', 'Months Code', 'Year Code', 'Flag'], inplace = True)"
   ]
  },
  {
   "cell_type": "code",
   "execution_count": 9,
   "metadata": {},
   "outputs": [],
   "source": [
    "prices_df = prices_df[(prices_df['Area'].isin(unique_area)) & (prices_df['Item'].isin(unique_item)) & (prices_df['Year'].isin(unique_year))].reset_index(drop = True)"
   ]
  },
  {
   "cell_type": "code",
   "execution_count": 10,
   "metadata": {},
   "outputs": [
    {
     "data": {
      "text/html": [
       "<div>\n",
       "<style scoped>\n",
       "    .dataframe tbody tr th:only-of-type {\n",
       "        vertical-align: middle;\n",
       "    }\n",
       "\n",
       "    .dataframe tbody tr th {\n",
       "        vertical-align: top;\n",
       "    }\n",
       "\n",
       "    .dataframe thead th {\n",
       "        text-align: right;\n",
       "    }\n",
       "</style>\n",
       "<table border=\"1\" class=\"dataframe\">\n",
       "  <thead>\n",
       "    <tr style=\"text-align: right;\">\n",
       "      <th></th>\n",
       "      <th>Area Code</th>\n",
       "      <th>Area</th>\n",
       "      <th>Item Code</th>\n",
       "      <th>Item</th>\n",
       "      <th>Element Code</th>\n",
       "      <th>Element</th>\n",
       "      <th>Year</th>\n",
       "      <th>Unit</th>\n",
       "      <th>Value</th>\n",
       "    </tr>\n",
       "  </thead>\n",
       "  <tbody>\n",
       "    <tr>\n",
       "      <th>0</th>\n",
       "      <td>3</td>\n",
       "      <td>Albania</td>\n",
       "      <td>515</td>\n",
       "      <td>Apples</td>\n",
       "      <td>5532</td>\n",
       "      <td>Producer Price (USD/tonne)</td>\n",
       "      <td>2014</td>\n",
       "      <td>USD</td>\n",
       "      <td>475.0</td>\n",
       "    </tr>\n",
       "    <tr>\n",
       "      <th>1</th>\n",
       "      <td>3</td>\n",
       "      <td>Albania</td>\n",
       "      <td>515</td>\n",
       "      <td>Apples</td>\n",
       "      <td>5532</td>\n",
       "      <td>Producer Price (USD/tonne)</td>\n",
       "      <td>2015</td>\n",
       "      <td>USD</td>\n",
       "      <td>389.0</td>\n",
       "    </tr>\n",
       "    <tr>\n",
       "      <th>2</th>\n",
       "      <td>3</td>\n",
       "      <td>Albania</td>\n",
       "      <td>515</td>\n",
       "      <td>Apples</td>\n",
       "      <td>5532</td>\n",
       "      <td>Producer Price (USD/tonne)</td>\n",
       "      <td>2016</td>\n",
       "      <td>USD</td>\n",
       "      <td>381.0</td>\n",
       "    </tr>\n",
       "    <tr>\n",
       "      <th>3</th>\n",
       "      <td>3</td>\n",
       "      <td>Albania</td>\n",
       "      <td>515</td>\n",
       "      <td>Apples</td>\n",
       "      <td>5532</td>\n",
       "      <td>Producer Price (USD/tonne)</td>\n",
       "      <td>2017</td>\n",
       "      <td>USD</td>\n",
       "      <td>462.0</td>\n",
       "    </tr>\n",
       "    <tr>\n",
       "      <th>4</th>\n",
       "      <td>3</td>\n",
       "      <td>Albania</td>\n",
       "      <td>44</td>\n",
       "      <td>Barley</td>\n",
       "      <td>5532</td>\n",
       "      <td>Producer Price (USD/tonne)</td>\n",
       "      <td>2014</td>\n",
       "      <td>USD</td>\n",
       "      <td>431.0</td>\n",
       "    </tr>\n",
       "  </tbody>\n",
       "</table>\n",
       "</div>"
      ],
      "text/plain": [
       "   Area Code     Area  Item Code    Item  Element Code  \\\n",
       "0          3  Albania        515  Apples          5532   \n",
       "1          3  Albania        515  Apples          5532   \n",
       "2          3  Albania        515  Apples          5532   \n",
       "3          3  Albania        515  Apples          5532   \n",
       "4          3  Albania         44  Barley          5532   \n",
       "\n",
       "                      Element  Year Unit  Value  \n",
       "0  Producer Price (USD/tonne)  2014  USD  475.0  \n",
       "1  Producer Price (USD/tonne)  2015  USD  389.0  \n",
       "2  Producer Price (USD/tonne)  2016  USD  381.0  \n",
       "3  Producer Price (USD/tonne)  2017  USD  462.0  \n",
       "4  Producer Price (USD/tonne)  2014  USD  431.0  "
      ]
     },
     "execution_count": 10,
     "metadata": {},
     "output_type": "execute_result"
    }
   ],
   "source": [
    "prices_df.head()"
   ]
  },
  {
   "cell_type": "code",
   "execution_count": 11,
   "metadata": {},
   "outputs": [],
   "source": [
    "prices_df.to_pickle(os.path.join('dataframes_pkl', 'df_precios.pkl'))"
   ]
  },
  {
   "cell_type": "code",
   "execution_count": 14,
   "metadata": {},
   "outputs": [],
   "source": [
    "df.drop(columns = ['Partner Countries', 'Partner Country Code'], inplace = True)"
   ]
  },
  {
   "cell_type": "code",
   "execution_count": 15,
   "metadata": {},
   "outputs": [],
   "source": [
    "df = df[(df['Element'] == 'Emissions intensity') & (df['Year'] == 2014) & (df['Item'] == 'Meat, cattle')]"
   ]
  },
  {
   "cell_type": "code",
   "execution_count": 16,
   "metadata": {},
   "outputs": [],
   "source": [
    "graph_df = df.append(prices_df).pivot_table(values = 'Value', index = 'Area', columns = ['Element'])"
   ]
  },
  {
   "cell_type": "code",
   "execution_count": 17,
   "metadata": {},
   "outputs": [
    {
     "data": {
      "text/html": [
       "<div>\n",
       "<style scoped>\n",
       "    .dataframe tbody tr th:only-of-type {\n",
       "        vertical-align: middle;\n",
       "    }\n",
       "\n",
       "    .dataframe tbody tr th {\n",
       "        vertical-align: top;\n",
       "    }\n",
       "\n",
       "    .dataframe thead th {\n",
       "        text-align: right;\n",
       "    }\n",
       "</style>\n",
       "<table border=\"1\" class=\"dataframe\">\n",
       "  <thead>\n",
       "    <tr style=\"text-align: right;\">\n",
       "      <th>Element</th>\n",
       "      <th>Emissions intensity</th>\n",
       "      <th>Producer Price (USD/tonne)</th>\n",
       "    </tr>\n",
       "    <tr>\n",
       "      <th>Area</th>\n",
       "      <th></th>\n",
       "      <th></th>\n",
       "    </tr>\n",
       "  </thead>\n",
       "  <tbody>\n",
       "    <tr>\n",
       "      <th>Afghanistan</th>\n",
       "      <td>7.7032</td>\n",
       "      <td>NaN</td>\n",
       "    </tr>\n",
       "    <tr>\n",
       "      <th>Albania</th>\n",
       "      <td>6.8544</td>\n",
       "      <td>705.707317</td>\n",
       "    </tr>\n",
       "    <tr>\n",
       "      <th>Algeria</th>\n",
       "      <td>7.5014</td>\n",
       "      <td>1825.434211</td>\n",
       "    </tr>\n",
       "    <tr>\n",
       "      <th>Antigua and Barbuda</th>\n",
       "      <td>16.5620</td>\n",
       "      <td>NaN</td>\n",
       "    </tr>\n",
       "    <tr>\n",
       "      <th>Argentina</th>\n",
       "      <td>31.0271</td>\n",
       "      <td>1175.486486</td>\n",
       "    </tr>\n",
       "  </tbody>\n",
       "</table>\n",
       "</div>"
      ],
      "text/plain": [
       "Element              Emissions intensity  Producer Price (USD/tonne)\n",
       "Area                                                                \n",
       "Afghanistan                       7.7032                         NaN\n",
       "Albania                           6.8544                  705.707317\n",
       "Algeria                           7.5014                 1825.434211\n",
       "Antigua and Barbuda              16.5620                         NaN\n",
       "Argentina                        31.0271                 1175.486486"
      ]
     },
     "execution_count": 17,
     "metadata": {},
     "output_type": "execute_result"
    }
   ],
   "source": [
    "graph_df.head()"
   ]
  },
  {
   "cell_type": "code",
   "execution_count": 18,
   "metadata": {},
   "outputs": [],
   "source": [
    "import plotly.express as px"
   ]
  },
  {
   "cell_type": "code",
   "execution_count": 19,
   "metadata": {},
   "outputs": [],
   "source": [
    "gdp_df = pd.read_pickle(os.path.join('dataframes_pkl', 'df_gdp.pkl'))"
   ]
  },
  {
   "cell_type": "code",
   "execution_count": 20,
   "metadata": {},
   "outputs": [],
   "source": [
    "gdp_df = gdp_df[gdp_df['Year'] == '2014'].set_index('Area').drop(columns = 'Year')"
   ]
  },
  {
   "cell_type": "code",
   "execution_count": 21,
   "metadata": {},
   "outputs": [],
   "source": [
    "graph_df = pd.merge(graph_df, gdp_df, 'left', left_index = True, right_index = True)"
   ]
  },
  {
   "cell_type": "code",
   "execution_count": 23,
   "metadata": {},
   "outputs": [
    {
     "name": "stdout",
     "output_type": "stream",
     "text": [
      "<class 'pandas.core.frame.DataFrame'>\n",
      "Index: 154 entries, Afghanistan to Zimbabwe\n",
      "Data columns (total 3 columns):\n",
      " #   Column                      Non-Null Count  Dtype  \n",
      "---  ------                      --------------  -----  \n",
      " 0   Emissions intensity         153 non-null    float64\n",
      " 1   Producer Price (USD/tonne)  121 non-null    float64\n",
      " 2   GDP_PCAP                    154 non-null    float64\n",
      "dtypes: float64(3)\n",
      "memory usage: 8.9+ KB\n"
     ]
    }
   ],
   "source": [
    "graph_df.info()"
   ]
  },
  {
   "cell_type": "code",
   "execution_count": 43,
   "metadata": {},
   "outputs": [],
   "source": [
    "    fig = px.scatter(\n",
    "        data_frame = graph_df, \n",
    "        x = 'Emissions intensity', \n",
    "        y = 'Producer Price (USD/tonne)',\n",
    "        size = graph_df['GDP_PCAP'] ** 0.7,\n",
    "        hover_name = graph_df.index,)"
   ]
  },
  {
   "cell_type": "code",
   "execution_count": 44,
   "metadata": {},
   "outputs": [
    {
     "data": {
      "application/vnd.plotly.v1+json": {
       "config": {
        "plotlyServerURL": "https://plot.ly"
       },
       "data": [
        {
         "hovertemplate": "<b>%{hovertext}</b><br><br>Emissions intensity=%{x}<br>Producer Price (USD/tonne)=%{y}<br>size=%{marker.size}<extra></extra>",
         "hovertext": [
          "Afghanistan",
          "Albania",
          "Algeria",
          "Antigua and Barbuda",
          "Argentina",
          "Armenia",
          "Australia",
          "Austria",
          "Azerbaijan",
          "Bahamas",
          "Bangladesh",
          "Barbados",
          "Belarus",
          "Belgium",
          "Belize",
          "Benin",
          "Bolivia (Plurinational State of)",
          "Bosnia and Herzegovina",
          "Botswana",
          "Brazil",
          "Bulgaria",
          "Burkina Faso",
          "Cabo Verde",
          "Cambodia",
          "Cameroon",
          "Canada",
          "Central African Republic",
          "Chile",
          "China, Hong Kong SAR",
          "China, Taiwan Province of",
          "China, mainland",
          "Colombia",
          "Comoros",
          "Congo",
          "Costa Rica",
          "Croatia",
          "Cuba",
          "Cyprus",
          "Czechia",
          "Côte d'Ivoire",
          "Denmark",
          "Djibouti",
          "Dominica",
          "Ecuador",
          "Egypt",
          "El Salvador",
          "Estonia",
          "Eswatini",
          "Ethiopia",
          "Fiji",
          "Finland",
          "France",
          "French Polynesia",
          "Gabon",
          "Gambia",
          "Georgia",
          "Germany",
          "Ghana",
          "Greece",
          "Grenada",
          "Guatemala",
          "Guinea",
          "Guyana",
          "Honduras",
          "Hungary",
          "Iceland",
          "India",
          "Indonesia",
          "Iran (Islamic Republic of)",
          "Ireland",
          "Israel",
          "Italy",
          "Jamaica",
          "Japan",
          "Jordan",
          "Kazakhstan",
          "Kenya",
          "Kuwait",
          "Kyrgyzstan",
          "Latvia",
          "Lebanon",
          "Lithuania",
          "Luxembourg",
          "Madagascar",
          "Malawi",
          "Malaysia",
          "Maldives",
          "Mali",
          "Malta",
          "Mauritania",
          "Mauritius",
          "Mexico",
          "Mongolia",
          "Montenegro",
          "Morocco",
          "Namibia",
          "Nepal",
          "Netherlands",
          "New Caledonia",
          "New Zealand",
          "Nicaragua",
          "Niger",
          "Nigeria",
          "North Macedonia",
          "Norway",
          "Oman",
          "Pakistan",
          "Panama",
          "Papua New Guinea",
          "Paraguay",
          "Peru",
          "Philippines",
          "Poland",
          "Portugal",
          "Republic of Korea",
          "Republic of Moldova",
          "Romania",
          "Russian Federation",
          "Rwanda",
          "Saint Kitts and Nevis",
          "Saint Lucia",
          "Saint Vincent and the Grenadines",
          "Sao Tome and Principe",
          "Saudi Arabia",
          "Senegal",
          "Serbia",
          "Seychelles",
          "Sierra Leone",
          "Slovakia",
          "Slovenia",
          "Solomon Islands",
          "South Africa",
          "Spain",
          "Sri Lanka",
          "Suriname",
          "Sweden",
          "Switzerland",
          "Thailand",
          "Togo",
          "Trinidad and Tobago",
          "Tunisia",
          "Turkey",
          "Uganda",
          "Ukraine",
          "United Arab Emirates",
          "United Kingdom of Great Britain and Northern Ireland",
          "United Republic of Tanzania",
          "United States of America",
          "Uruguay",
          "Vanuatu",
          "Venezuela (Bolivarian Republic of)",
          "Yemen",
          "Zambia",
          "Zimbabwe"
         ],
         "legendgroup": "",
         "marker": {
          "color": "#636efa",
          "size": [
           89.50111007219705,
           365.1868222719737,
           414.8297139393334,
           778.5190367187836,
           730.7897296185497,
           331.4314914203367,
           2276.0032139863565,
           1993.1787223246045,
           534.5698914287258,
           1363.4664802772807,
           136.1904877244163,
           895.4417807648712,
           555.7343631187882,
           1883.5029692450503,
           372.95693366801663,
           150.57225170465918,
           276.8030626773194,
           406.19006611297795,
           515.6429739194873,
           721.5593519130373,
           535.0663999480876,
           107.01195017393395,
           307.9283708596872,
           134.02074641523703,
           175.2603271658665,
           1972.589514488446,
           69.09998523972541,
           825.1284701969211,
           1674.2828097613146,
           1118.894767240277,
           522.4091631359503,
           545.1015133144863,
           168.2883496365014,
           319.1254796331574,
           667.9154711578738,
           789.0151168313688,
           498.08670338811396,
           1269.9544378239914,
           1021.0767985668983,
           171.97782951674026,
           2276.953624979401,
           236.6927063380982,
           507.05297607888076,
           460.50671743723376,
           295.25817545738977,
           307.9534354643327,
           1033.3774638133586,
           334.50582910480506,
           84.61915387096622,
           420.76147538921225,
           1953.6985434507685,
           1751.892839752872,
           811.4234171385112,
           616.0156253221711,
           88.80702433025424,
           374.10436690854414,
           1890.6684603095991,
           205.39010062246282,
           1081.3046952677605,
           557.0693838306835,
           319.3121863569963,
           106.48157161664594,
           410.2775412618152,
           217.97241340975668,
           810.4205219430597,
           2069.690185672602,
           172.9343322887183,
           302.07890867614793,
           419.7056666433181,
           2094.820954862015,
           1601.8699070990265,
           1532.2072274343961,
           379.3433829151576,
           1620.4221197342235,
           339.83770004460035,
           750.2730981821762,
           164.25133750011832,
           1781.7521701183432,
           149.62091148243476,
           866.0537853346189,
           524.8797834302258,
           897.795246017955,
           3666.0789612023827,
           80.81399879708101,
           62.91910103876736,
           688.1249514221585,
           563.0778800280927,
           112.19593351251446,
           1256.5366380182347,
           180.79770202156092,
           637.7407403866491,
           671.4349780327382,
           341.3950845042639,
           510.00129952994166,
           282.42581723469385,
           413.6048745413139,
           111.878555472223,
           2023.1003726886286,
           1655.6410817032056,
           1796.17900290081,
           199.76960893002214,
           84.37559746002633,
           277.87770889404936,
           414.9712901032685,
           3095.995554395367,
           1026.2563094345408,
           147.27289204088265,
           749.8143034336019,
           266.59346726882677,
           447.34484540331755,
           475.3562416011192,
           269.0715497188422,
           809.3280631158642,
           1098.299709870588,
           1337.4689066511169,
           292.1470627548615,
           632.8851855321932,
           802.3420396194158,
           102.31064433735457,
           954.0121407090046,
           624.0203728789786,
           475.9295605974812,
           187.78530486359523,
           1180.2441840494319,
           159.06070658462156,
           471.7190025544301,
           826.2834394951501,
           99.51454475198756,
           975.3599621711527,
           1171.8125717759362,
           223.80613945384775,
           491.000810214182,
           1344.246510172949,
           321.6510267565593,
           607.4446048612934,
           2212.121717717943,
           2930.237874685569,
           438.79138739007914,
           92.20817394366577,
           1034.6932794855938,
           363.2519368615466,
           723.4412331813337,
           115.43951096930238,
           278.23271137620173,
           1772.9528529142963,
           1885.8987469478252,
           128.53132200730488,
           2082.2365325972137,
           908.4354429869688,
           266.9701242773914,
           878.8999422991315,
           180.56321735356985,
           187.18797113809634,
           162.0967682015766
          ],
          "sizemode": "area",
          "sizeref": 9.165197403005957,
          "symbol": "circle"
         },
         "mode": "markers",
         "name": "",
         "orientation": "v",
         "showlegend": false,
         "type": "scatter",
         "x": [
          7.7032,
          6.8544,
          7.5014,
          16.562,
          31.0271,
          7.5563,
          21.506,
          11.6151,
          11.3229,
          0.4375,
          71.9362,
          85.1098,
          17.4395,
          13.8326,
          96.9546,
          50.7228,
          63.8974,
          31.4809,
          57.4721,
          32.5098,
          28.4065,
          88.741,
          30.0039,
          74.1417,
          68.7385,
          16.9642,
          49.3928,
          14.675,
          0.3643,
          20.1986,
          15.8992,
          32.4899,
          37.0454,
          64.78,
          9.6727,
          10.9692,
          87.6029,
          10.2173,
          27.6039,
          54.2224,
          14.4869,
          53.2974,
          19.5195,
          25.7438,
          8.5212,
          70.43,
          30.3678,
          33.016,
          135.0354,
          204.0574,
          13.7869,
          20.1894,
          94.0309,
          27.2215,
          116.9239,
          31.278,
          13.4556,
          67.5101,
          16.71,
          46.3643,
          27.149,
          79.2461,
          46.3218,
          60.389,
          40.3038,
          25.147,
          105.207,
          43.7842,
          3.8523,
          17.8228,
          3.3833,
          10.4346,
          41.5479,
          9.3615,
          1.792,
          13.7701,
          32.0332,
          10.0617,
          10.7688,
          24.8927,
          1.0267,
          17.9724,
          32.3223,
          54.9812,
          34.6377,
          19.5455,
          null,
          58.5853,
          14.6763,
          58.0877,
          0.8281,
          27.8759,
          75.1995,
          11.9491,
          6.7318,
          75.8543,
          85.9775,
          12.3822,
          54.0761,
          16.6948,
          53.1934,
          69.7471,
          51.7155,
          37.8682,
          14.2414,
          17.6562,
          23.6269,
          29.8026,
          56.3091,
          50.8768,
          40.0114,
          19.0681,
          14.729,
          31.3945,
          13.6349,
          12.5575,
          14.4467,
          13.1999,
          30.2532,
          49.7091,
          39.1869,
          24.2072,
          6.4026,
          3.0498,
          43.3689,
          11.5092,
          9.7232,
          56.3953,
          50.7042,
          20.2402,
          34.4285,
          14.6978,
          16.6547,
          28.2664,
          34.5337,
          15.8868,
          12.3902,
          53.5233,
          38.8761,
          45.2218,
          4.0188,
          12.0966,
          55.3189,
          8.7756,
          4.0214,
          16.5749,
          68.9381,
          11.4048,
          35.6862,
          108.2476,
          46.9098,
          13.876,
          20.6423,
          79.9684
         ],
         "xaxis": "x",
         "y": [
          null,
          705.7073170731708,
          1825.4342105263158,
          null,
          1175.4864864864865,
          1683.72,
          1215.9764705882353,
          1297.6494845360826,
          1143.7692307692307,
          null,
          542.6304347826087,
          2280.9473684210525,
          467.8840579710145,
          483.51785714285717,
          null,
          673.6,
          655.8390804597701,
          910,
          241,
          877.8518518518518,
          443.86842105263156,
          null,
          3337.464285714286,
          null,
          null,
          652.9545454545455,
          null,
          1261.7407407407406,
          6059.666666666667,
          null,
          1212.3235294117646,
          866.3684210526316,
          null,
          null,
          899.3888888888889,
          743.82,
          null,
          1701.5,
          762,
          null,
          1133.48,
          null,
          null,
          726.2405063291139,
          1072.177570093458,
          683.14,
          1069.5087719298247,
          null,
          398.6933333333333,
          2185.4716981132074,
          1482.8253968253969,
          1439.8854166666667,
          null,
          null,
          547,
          1517.9722222222222,
          1659.8762886597938,
          558,
          1438.6363636363637,
          3436.4137931034484,
          null,
          645.6,
          1190.5625,
          null,
          741.0957446808511,
          2826.4,
          null,
          711.5652173913044,
          1058.5113636363637,
          647.125,
          1362.641304347826,
          1094.1153846153845,
          1722.078431372549,
          2587.8214285714284,
          763.2571428571429,
          346.5897435897436,
          1470.6612903225807,
          806.7755102040817,
          493.3333333333333,
          1138.5604395604396,
          1536.4418604651162,
          561.1470588235294,
          2128.554054054054,
          null,
          1147.9636363636364,
          1914.1636363636364,
          2198.230769230769,
          1106.4897959183672,
          1269.4761904761904,
          null,
          1925.7083333333333,
          936.6971830985915,
          578.7096774193549,
          null,
          459.17105263157896,
          1667.3,
          1228.4204545454545,
          729.4583333333334,
          3225.1739130434785,
          339.0416666666667,
          null,
          null,
          null,
          374.4,
          1907.35,
          528.2894736842105,
          328,
          1215.7272727272727,
          null,
          465.5945945945946,
          513.2241379310345,
          1081.76,
          336.4264705882353,
          1096.2545454545455,
          1581.6666666666667,
          271.19444444444446,
          1188.3626373626373,
          857.4880952380952,
          1310.8783783783783,
          2770.866666666667,
          4174.2,
          1341.1785714285713,
          null,
          2305.5526315789475,
          538.1,
          514.9852941176471,
          3423.1666666666665,
          1831.1052631578948,
          747.6842105263158,
          1034.2328767123288,
          null,
          983.5526315789474,
          1019.4964539007092,
          1108.2028985507247,
          2608.527777777778,
          728.9615384615385,
          2982.625,
          989.9718309859155,
          847.46875,
          1436.2222222222222,
          480.52941176470586,
          1405.912,
          null,
          457.7906976744186,
          null,
          864.4814814814815,
          385.6060606060606,
          1957.7925925925927,
          1043.7065217391305,
          null,
          2998.25,
          2967.014492753623,
          1805.392857142857,
          895.1739130434783
         ],
         "yaxis": "y"
        }
       ],
       "layout": {
        "legend": {
         "itemsizing": "constant",
         "tracegroupgap": 0
        },
        "margin": {
         "t": 60
        },
        "template": {
         "data": {
          "bar": [
           {
            "error_x": {
             "color": "#2a3f5f"
            },
            "error_y": {
             "color": "#2a3f5f"
            },
            "marker": {
             "line": {
              "color": "#E5ECF6",
              "width": 0.5
             },
             "pattern": {
              "fillmode": "overlay",
              "size": 10,
              "solidity": 0.2
             }
            },
            "type": "bar"
           }
          ],
          "barpolar": [
           {
            "marker": {
             "line": {
              "color": "#E5ECF6",
              "width": 0.5
             },
             "pattern": {
              "fillmode": "overlay",
              "size": 10,
              "solidity": 0.2
             }
            },
            "type": "barpolar"
           }
          ],
          "carpet": [
           {
            "aaxis": {
             "endlinecolor": "#2a3f5f",
             "gridcolor": "white",
             "linecolor": "white",
             "minorgridcolor": "white",
             "startlinecolor": "#2a3f5f"
            },
            "baxis": {
             "endlinecolor": "#2a3f5f",
             "gridcolor": "white",
             "linecolor": "white",
             "minorgridcolor": "white",
             "startlinecolor": "#2a3f5f"
            },
            "type": "carpet"
           }
          ],
          "choropleth": [
           {
            "colorbar": {
             "outlinewidth": 0,
             "ticks": ""
            },
            "type": "choropleth"
           }
          ],
          "contour": [
           {
            "colorbar": {
             "outlinewidth": 0,
             "ticks": ""
            },
            "colorscale": [
             [
              0,
              "#0d0887"
             ],
             [
              0.1111111111111111,
              "#46039f"
             ],
             [
              0.2222222222222222,
              "#7201a8"
             ],
             [
              0.3333333333333333,
              "#9c179e"
             ],
             [
              0.4444444444444444,
              "#bd3786"
             ],
             [
              0.5555555555555556,
              "#d8576b"
             ],
             [
              0.6666666666666666,
              "#ed7953"
             ],
             [
              0.7777777777777778,
              "#fb9f3a"
             ],
             [
              0.8888888888888888,
              "#fdca26"
             ],
             [
              1,
              "#f0f921"
             ]
            ],
            "type": "contour"
           }
          ],
          "contourcarpet": [
           {
            "colorbar": {
             "outlinewidth": 0,
             "ticks": ""
            },
            "type": "contourcarpet"
           }
          ],
          "heatmap": [
           {
            "colorbar": {
             "outlinewidth": 0,
             "ticks": ""
            },
            "colorscale": [
             [
              0,
              "#0d0887"
             ],
             [
              0.1111111111111111,
              "#46039f"
             ],
             [
              0.2222222222222222,
              "#7201a8"
             ],
             [
              0.3333333333333333,
              "#9c179e"
             ],
             [
              0.4444444444444444,
              "#bd3786"
             ],
             [
              0.5555555555555556,
              "#d8576b"
             ],
             [
              0.6666666666666666,
              "#ed7953"
             ],
             [
              0.7777777777777778,
              "#fb9f3a"
             ],
             [
              0.8888888888888888,
              "#fdca26"
             ],
             [
              1,
              "#f0f921"
             ]
            ],
            "type": "heatmap"
           }
          ],
          "heatmapgl": [
           {
            "colorbar": {
             "outlinewidth": 0,
             "ticks": ""
            },
            "colorscale": [
             [
              0,
              "#0d0887"
             ],
             [
              0.1111111111111111,
              "#46039f"
             ],
             [
              0.2222222222222222,
              "#7201a8"
             ],
             [
              0.3333333333333333,
              "#9c179e"
             ],
             [
              0.4444444444444444,
              "#bd3786"
             ],
             [
              0.5555555555555556,
              "#d8576b"
             ],
             [
              0.6666666666666666,
              "#ed7953"
             ],
             [
              0.7777777777777778,
              "#fb9f3a"
             ],
             [
              0.8888888888888888,
              "#fdca26"
             ],
             [
              1,
              "#f0f921"
             ]
            ],
            "type": "heatmapgl"
           }
          ],
          "histogram": [
           {
            "marker": {
             "pattern": {
              "fillmode": "overlay",
              "size": 10,
              "solidity": 0.2
             }
            },
            "type": "histogram"
           }
          ],
          "histogram2d": [
           {
            "colorbar": {
             "outlinewidth": 0,
             "ticks": ""
            },
            "colorscale": [
             [
              0,
              "#0d0887"
             ],
             [
              0.1111111111111111,
              "#46039f"
             ],
             [
              0.2222222222222222,
              "#7201a8"
             ],
             [
              0.3333333333333333,
              "#9c179e"
             ],
             [
              0.4444444444444444,
              "#bd3786"
             ],
             [
              0.5555555555555556,
              "#d8576b"
             ],
             [
              0.6666666666666666,
              "#ed7953"
             ],
             [
              0.7777777777777778,
              "#fb9f3a"
             ],
             [
              0.8888888888888888,
              "#fdca26"
             ],
             [
              1,
              "#f0f921"
             ]
            ],
            "type": "histogram2d"
           }
          ],
          "histogram2dcontour": [
           {
            "colorbar": {
             "outlinewidth": 0,
             "ticks": ""
            },
            "colorscale": [
             [
              0,
              "#0d0887"
             ],
             [
              0.1111111111111111,
              "#46039f"
             ],
             [
              0.2222222222222222,
              "#7201a8"
             ],
             [
              0.3333333333333333,
              "#9c179e"
             ],
             [
              0.4444444444444444,
              "#bd3786"
             ],
             [
              0.5555555555555556,
              "#d8576b"
             ],
             [
              0.6666666666666666,
              "#ed7953"
             ],
             [
              0.7777777777777778,
              "#fb9f3a"
             ],
             [
              0.8888888888888888,
              "#fdca26"
             ],
             [
              1,
              "#f0f921"
             ]
            ],
            "type": "histogram2dcontour"
           }
          ],
          "mesh3d": [
           {
            "colorbar": {
             "outlinewidth": 0,
             "ticks": ""
            },
            "type": "mesh3d"
           }
          ],
          "parcoords": [
           {
            "line": {
             "colorbar": {
              "outlinewidth": 0,
              "ticks": ""
             }
            },
            "type": "parcoords"
           }
          ],
          "pie": [
           {
            "automargin": true,
            "type": "pie"
           }
          ],
          "scatter": [
           {
            "marker": {
             "colorbar": {
              "outlinewidth": 0,
              "ticks": ""
             }
            },
            "type": "scatter"
           }
          ],
          "scatter3d": [
           {
            "line": {
             "colorbar": {
              "outlinewidth": 0,
              "ticks": ""
             }
            },
            "marker": {
             "colorbar": {
              "outlinewidth": 0,
              "ticks": ""
             }
            },
            "type": "scatter3d"
           }
          ],
          "scattercarpet": [
           {
            "marker": {
             "colorbar": {
              "outlinewidth": 0,
              "ticks": ""
             }
            },
            "type": "scattercarpet"
           }
          ],
          "scattergeo": [
           {
            "marker": {
             "colorbar": {
              "outlinewidth": 0,
              "ticks": ""
             }
            },
            "type": "scattergeo"
           }
          ],
          "scattergl": [
           {
            "marker": {
             "colorbar": {
              "outlinewidth": 0,
              "ticks": ""
             }
            },
            "type": "scattergl"
           }
          ],
          "scattermapbox": [
           {
            "marker": {
             "colorbar": {
              "outlinewidth": 0,
              "ticks": ""
             }
            },
            "type": "scattermapbox"
           }
          ],
          "scatterpolar": [
           {
            "marker": {
             "colorbar": {
              "outlinewidth": 0,
              "ticks": ""
             }
            },
            "type": "scatterpolar"
           }
          ],
          "scatterpolargl": [
           {
            "marker": {
             "colorbar": {
              "outlinewidth": 0,
              "ticks": ""
             }
            },
            "type": "scatterpolargl"
           }
          ],
          "scatterternary": [
           {
            "marker": {
             "colorbar": {
              "outlinewidth": 0,
              "ticks": ""
             }
            },
            "type": "scatterternary"
           }
          ],
          "surface": [
           {
            "colorbar": {
             "outlinewidth": 0,
             "ticks": ""
            },
            "colorscale": [
             [
              0,
              "#0d0887"
             ],
             [
              0.1111111111111111,
              "#46039f"
             ],
             [
              0.2222222222222222,
              "#7201a8"
             ],
             [
              0.3333333333333333,
              "#9c179e"
             ],
             [
              0.4444444444444444,
              "#bd3786"
             ],
             [
              0.5555555555555556,
              "#d8576b"
             ],
             [
              0.6666666666666666,
              "#ed7953"
             ],
             [
              0.7777777777777778,
              "#fb9f3a"
             ],
             [
              0.8888888888888888,
              "#fdca26"
             ],
             [
              1,
              "#f0f921"
             ]
            ],
            "type": "surface"
           }
          ],
          "table": [
           {
            "cells": {
             "fill": {
              "color": "#EBF0F8"
             },
             "line": {
              "color": "white"
             }
            },
            "header": {
             "fill": {
              "color": "#C8D4E3"
             },
             "line": {
              "color": "white"
             }
            },
            "type": "table"
           }
          ]
         },
         "layout": {
          "annotationdefaults": {
           "arrowcolor": "#2a3f5f",
           "arrowhead": 0,
           "arrowwidth": 1
          },
          "autotypenumbers": "strict",
          "coloraxis": {
           "colorbar": {
            "outlinewidth": 0,
            "ticks": ""
           }
          },
          "colorscale": {
           "diverging": [
            [
             0,
             "#8e0152"
            ],
            [
             0.1,
             "#c51b7d"
            ],
            [
             0.2,
             "#de77ae"
            ],
            [
             0.3,
             "#f1b6da"
            ],
            [
             0.4,
             "#fde0ef"
            ],
            [
             0.5,
             "#f7f7f7"
            ],
            [
             0.6,
             "#e6f5d0"
            ],
            [
             0.7,
             "#b8e186"
            ],
            [
             0.8,
             "#7fbc41"
            ],
            [
             0.9,
             "#4d9221"
            ],
            [
             1,
             "#276419"
            ]
           ],
           "sequential": [
            [
             0,
             "#0d0887"
            ],
            [
             0.1111111111111111,
             "#46039f"
            ],
            [
             0.2222222222222222,
             "#7201a8"
            ],
            [
             0.3333333333333333,
             "#9c179e"
            ],
            [
             0.4444444444444444,
             "#bd3786"
            ],
            [
             0.5555555555555556,
             "#d8576b"
            ],
            [
             0.6666666666666666,
             "#ed7953"
            ],
            [
             0.7777777777777778,
             "#fb9f3a"
            ],
            [
             0.8888888888888888,
             "#fdca26"
            ],
            [
             1,
             "#f0f921"
            ]
           ],
           "sequentialminus": [
            [
             0,
             "#0d0887"
            ],
            [
             0.1111111111111111,
             "#46039f"
            ],
            [
             0.2222222222222222,
             "#7201a8"
            ],
            [
             0.3333333333333333,
             "#9c179e"
            ],
            [
             0.4444444444444444,
             "#bd3786"
            ],
            [
             0.5555555555555556,
             "#d8576b"
            ],
            [
             0.6666666666666666,
             "#ed7953"
            ],
            [
             0.7777777777777778,
             "#fb9f3a"
            ],
            [
             0.8888888888888888,
             "#fdca26"
            ],
            [
             1,
             "#f0f921"
            ]
           ]
          },
          "colorway": [
           "#636efa",
           "#EF553B",
           "#00cc96",
           "#ab63fa",
           "#FFA15A",
           "#19d3f3",
           "#FF6692",
           "#B6E880",
           "#FF97FF",
           "#FECB52"
          ],
          "font": {
           "color": "#2a3f5f"
          },
          "geo": {
           "bgcolor": "white",
           "lakecolor": "white",
           "landcolor": "#E5ECF6",
           "showlakes": true,
           "showland": true,
           "subunitcolor": "white"
          },
          "hoverlabel": {
           "align": "left"
          },
          "hovermode": "closest",
          "mapbox": {
           "style": "light"
          },
          "paper_bgcolor": "white",
          "plot_bgcolor": "#E5ECF6",
          "polar": {
           "angularaxis": {
            "gridcolor": "white",
            "linecolor": "white",
            "ticks": ""
           },
           "bgcolor": "#E5ECF6",
           "radialaxis": {
            "gridcolor": "white",
            "linecolor": "white",
            "ticks": ""
           }
          },
          "scene": {
           "xaxis": {
            "backgroundcolor": "#E5ECF6",
            "gridcolor": "white",
            "gridwidth": 2,
            "linecolor": "white",
            "showbackground": true,
            "ticks": "",
            "zerolinecolor": "white"
           },
           "yaxis": {
            "backgroundcolor": "#E5ECF6",
            "gridcolor": "white",
            "gridwidth": 2,
            "linecolor": "white",
            "showbackground": true,
            "ticks": "",
            "zerolinecolor": "white"
           },
           "zaxis": {
            "backgroundcolor": "#E5ECF6",
            "gridcolor": "white",
            "gridwidth": 2,
            "linecolor": "white",
            "showbackground": true,
            "ticks": "",
            "zerolinecolor": "white"
           }
          },
          "shapedefaults": {
           "line": {
            "color": "#2a3f5f"
           }
          },
          "ternary": {
           "aaxis": {
            "gridcolor": "white",
            "linecolor": "white",
            "ticks": ""
           },
           "baxis": {
            "gridcolor": "white",
            "linecolor": "white",
            "ticks": ""
           },
           "bgcolor": "#E5ECF6",
           "caxis": {
            "gridcolor": "white",
            "linecolor": "white",
            "ticks": ""
           }
          },
          "title": {
           "x": 0.05
          },
          "xaxis": {
           "automargin": true,
           "gridcolor": "white",
           "linecolor": "white",
           "ticks": "",
           "title": {
            "standoff": 15
           },
           "zerolinecolor": "white",
           "zerolinewidth": 2
          },
          "yaxis": {
           "automargin": true,
           "gridcolor": "white",
           "linecolor": "white",
           "ticks": "",
           "title": {
            "standoff": 15
           },
           "zerolinecolor": "white",
           "zerolinewidth": 2
          }
         }
        },
        "xaxis": {
         "anchor": "y",
         "domain": [
          0,
          1
         ],
         "title": {
          "text": "Emissions intensity"
         }
        },
        "yaxis": {
         "anchor": "x",
         "domain": [
          0,
          1
         ],
         "title": {
          "text": "Producer Price (USD/tonne)"
         }
        }
       }
      }
     },
     "metadata": {},
     "output_type": "display_data"
    }
   ],
   "source": [
    "fig.show()"
   ]
  }
 ],
 "metadata": {
  "interpreter": {
   "hash": "ecf5722fdaf1897a315d257d89d94520bfcaa453217d5becf09b39e73618b0de"
  },
  "kernelspec": {
   "display_name": "Python 3.8.5 ('base')",
   "language": "python",
   "name": "python3"
  },
  "language_info": {
   "codemirror_mode": {
    "name": "ipython",
    "version": 3
   },
   "file_extension": ".py",
   "mimetype": "text/x-python",
   "name": "python",
   "nbconvert_exporter": "python",
   "pygments_lexer": "ipython3",
   "version": "3.8.5"
  },
  "orig_nbformat": 4
 },
 "nbformat": 4,
 "nbformat_minor": 2
}
